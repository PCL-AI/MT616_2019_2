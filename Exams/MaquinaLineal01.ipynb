{
  "nbformat": 4,
  "nbformat_minor": 0,
  "metadata": {
    "kernelspec": {
      "display_name": "Python 2",
      "language": "python",
      "name": "python2"
    },
    "language_info": {
      "codemirror_mode": {
        "name": "ipython",
        "version": 2
      },
      "file_extension": ".py",
      "mimetype": "text/x-python",
      "name": "python",
      "nbconvert_exporter": "python",
      "pygments_lexer": "ipython2",
      "version": "2.7.13"
    },
    "colab": {
      "name": "LinearRegressionHW.ipynb",
      "provenance": []
    }
  },
  "cells": [
    {
      "cell_type": "markdown",
      "metadata": {
        "id": "8yBh4yjGwPMr",
        "colab_type": "text"
      },
      "source": [
        "# UNI Machine Learning Course  (MT616)\n",
        "# Exam 01: La Maquina lineal\n",
        "\n",
        "La segunda parte del examen es implementacion y programacion de algoritmos:\n",
        "\n",
        "1.   Implementacion de la una regresion lineal para predecir el precio de una casa en Boston.\n",
        "2.   Uso de librerias del scikit-learn para implementar un modelo de regresion lineal para predecir la Contaminación ambiental por partículas (Particulate pollution)\n",
        "\n"
      ]
    },
    {
      "cell_type": "markdown",
      "metadata": {
        "id": "euLZ47nzyidM",
        "colab_type": "text"
      },
      "source": [
        "## 1.- The Boston Housing dataset: Contruyendo  J($\\theta$) y GD:\n",
        "### Gradiente descendiente para una función de una sola variable\n",
        "\n",
        "En esta parte se construye la funcion de costo y se usa el gradiente descendiente para obtener los valores optimos. En esta parte usaremos una data reducida y de una sola dimencion del The Boston Housing dataset\n",
        "\n",
        "El resultado deseado para esta parte del examen es el gráfico de costos con iteraciones tituladas \"Error vs training\" con y sin regularización (eje y etiquetado como costo y eje x etiquetado como iteraciones calculando el respectivo MSE.\n",
        "\n",
        "**Lab referencia:**\n",
        "1.   https://github.com/PCL-AI/MT616_2018_2/blob/master/Lab02/Lab02a.ipynb\n",
        "2.   https://github.com/PCL-AI/MT616_2018_2/blob/master/Lab01/Lab01a_MT616.ipynb\n",
        "\n",
        "\n",
        "\n",
        "\n",
        "\n",
        "\n"
      ]
    },
    {
      "cell_type": "code",
      "metadata": {
        "id": "RnBnPT1X0hVg",
        "colab_type": "code",
        "colab": {}
      },
      "source": [
        "import numpy as np\n",
        "import pandas as pd\n",
        "import matplotlib.pyplot as plt"
      ],
      "execution_count": 0,
      "outputs": []
    },
    {
      "cell_type": "markdown",
      "metadata": {
        "id": "RcsWVWWE0hVj",
        "colab_type": "text"
      },
      "source": [
        "Este dataset contiene características en un rango muy amplio. \n",
        "La mejor manera de proceder será normalizar el set de datos. \n",
        "Después de cargar y normalizar los datos, incluya el término de intercepción en el set de datos.\n",
        "Use la desviación estándar para la normalización."
      ]
    },
    {
      "cell_type": "code",
      "metadata": {
        "id": "SWcauWbb0hVk",
        "colab_type": "code",
        "colab": {}
      },
      "source": [
        "df = #cargar dataset."
      ],
      "execution_count": 0,
      "outputs": []
    },
    {
      "cell_type": "markdown",
      "metadata": {
        "id": "iECkqrOI0hVn",
        "colab_type": "text"
      },
      "source": [
        "1. Después de agregar el término de intercepción, defina X como las características en el set de datos y defina Y como la variable objetivo.\n",
        "2. Conviértalos en una matriz numpy y defina theta (los coeficientes) con ceros."
      ]
    },
    {
      "cell_type": "code",
      "metadata": {
        "id": "gDm1gCVc0hVp",
        "colab_type": "code",
        "colab": {}
      },
      "source": [
        "X = \n",
        "Y = \n",
        "X = np.matrix(X.values)  \n",
        "Y = np.matrix(Y.values)  \n",
        "theta = "
      ],
      "execution_count": 0,
      "outputs": []
    },
    {
      "cell_type": "markdown",
      "metadata": {
        "id": "EyLwYXTn0hVs",
        "colab_type": "text"
      },
      "source": [
        "Ahora tenemos todos los módulos para calcular nuestra función de costo:"
      ]
    },
    {
      "cell_type": "code",
      "metadata": {
        "id": "yeBOFkN40hVt",
        "colab_type": "code",
        "colab": {}
      },
      "source": [
        "def costFunction(X, Y, theta):\n",
        "    '''\n",
        "    Calcular la Least Square Cost Function.\n",
        "    Devolver la funcion calculada.\n",
        "    '''\n",
        "    return cost"
      ],
      "execution_count": 0,
      "outputs": []
    },
    {
      "cell_type": "markdown",
      "metadata": {
        "collapsed": false,
        "id": "AtBE7kF60hVw",
        "colab_type": "text"
      },
      "source": [
        "Defina un método de descenso de gradiente que actualizará los thetas en cada iteración y también actualizará el costo."
      ]
    },
    {
      "cell_type": "code",
      "metadata": {
        "id": "xlHz3-Ll0hVx",
        "colab_type": "code",
        "colab": {}
      },
      "source": [
        "def gradientDescent(X, Y, theta, alpha, iters):\n",
        "    '''\n",
        "    Calcular la funcion gradiente descendiente.\n",
        "    Devolver la matrix de thetas y de costo.\n",
        "    '''\n",
        "    \n",
        "    return theta, cost"
      ],
      "execution_count": 0,
      "outputs": []
    },
    {
      "cell_type": "markdown",
      "metadata": {
        "id": "dTf3r0xe0hV0",
        "colab_type": "text"
      },
      "source": [
        "Defina alfa y el número de iteraciones para llamar a la función gradientDescent"
      ]
    },
    {
      "cell_type": "code",
      "metadata": {
        "id": "DL2AsGOE0hV1",
        "colab_type": "code",
        "colab": {}
      },
      "source": [
        "#Intentar diferentes valores para ver los resultados, se sugiere alfa = 0.01 e iters = 1000.\n",
        "alpha = #Definir \n",
        "iters = #Definir\n",
        "\n",
        "result = gradientDescent(X, Y, theta, alpha, iters)"
      ],
      "execution_count": 0,
      "outputs": []
    },
    {
      "cell_type": "markdown",
      "metadata": {
        "id": "-FmQKKJX0hV3",
        "colab_type": "text"
      },
      "source": [
        "\n",
        "Implemente la Regresión regularizada descrita en clase y reporte el cambio en los coeficientes de los parámetros."
      ]
    },
    {
      "cell_type": "code",
      "metadata": {
        "id": "ES-CLuIj0hV4",
        "colab_type": "code",
        "colab": {}
      },
      "source": [
        "def gradientDescentRidge(X, Y, theta, alpha, itersreg, ridgeLambda):\n",
        "    '''\n",
        "    Calcular la funcion gradiente descendiente.\n",
        "    Devolver la matrix de thetas y de costo.\n",
        "\n",
        "    '''\n",
        "    return theta, cost"
      ],
      "execution_count": 0,
      "outputs": []
    },
    {
      "cell_type": "markdown",
      "metadata": {
        "id": "_bTWjR0i0hV8",
        "colab_type": "text"
      },
      "source": [
        "Defina alfa, número de iteraciones y lambda que minimice la función de costo y úselas para llamar a la función gradientDescent. \n",
        "Trace el gráfico de costos con iteraciones tituladas \"Error vs entrenamiento\" con y sin regularización (eje y etiquetado como costo y eje x etiquetado como iteraciones). Luego, calcule el MSE."
      ]
    },
    {
      "cell_type": "code",
      "metadata": {
        "id": "UZBX_EaP0hV9",
        "colab_type": "code",
        "colab": {}
      },
      "source": [
        "def MSE(theta):\n",
        "    '''\n",
        "    calcular y devolver el MSE.\n",
        "    '''\n",
        "    return mse"
      ],
      "execution_count": 0,
      "outputs": []
    },
    {
      "cell_type": "code",
      "metadata": {
        "id": "kfJmgacj0hWC",
        "colab_type": "code",
        "colab": {}
      },
      "source": [
        "#Pruebe diferentes valores, se sugieren los mismos valores para alfa e itersreg, y se sugiere 0.05 para lambda\n",
        "alpha = #Definir\n",
        "itersreg = #Definir\n",
        "ridgeLambda = #Definir\n",
        "regResult = gradientDescentRidge(X, Y, beta, alpha, itersreg, ridgeLambda)\n",
        "print regResult[0]\n",
        "\n",
        "#MSE para theta con regularizacion\n",
        "Theta= #Definir\n",
        "MSE(theta)\n",
        "\n",
        "\n",
        "\n",
        "# El resultado final deseado para esta parte del examen es el ultimo diagrama definido anteriormente, la explicacion sobre el\n",
        "# coeficientes de los parámetros con la regularizacion y el MSE. Agregar el diagrama final al informe y explique su algoritmo, el diagrama y\n",
        "# el MSE. En general debes saber explicar lo que hiciste en esta parte del examen. Finalmente, explique los coeficientes con regularización en su informe.\n"
      ],
      "execution_count": 0,
      "outputs": []
    },
    {
      "cell_type": "markdown",
      "metadata": {
        "id": "VSa2reBhwhRn",
        "colab_type": "text"
      },
      "source": [
        "## 2.- Contaminación ambiental por partículas (Particulate pollution)\n",
        "##Assessing Beijing's PM2.5 pollution: severity, weather impact, APEC and winter heating\n",
        "La contaminación de partículas, también llamada particulate matter (PM), es una mezcla de sólidos y gotas de líquido que flotan en el aire. PM2.5 se refiere a particulas que tiene un diámetro menor que 2.5 micrómetros y que es aproximadamente el 3% del diámetro de un cabello humano. Las partículas menores o iguales a 10 micrómetros de diámetro son tan pequeñas que pueden ingresar a los pulmones, lo que podría causar serios problemas de salud. Las lecturas de [PM2.5](https://blissair.com/what-is-pm-2-5.htm)  se incluyen en los informes de calidad del aire de las autoridades ambientales y las empresas.  \n",
        "\n",
        "En la Figura se muestra la comparacion del diametro con el cabello y la tabla te dara una idea de que niveles de PM2.5 son perjudiciales y las precauciones. La cual se basa en los estándares de calidad del aire para la contaminación de partículas publicados por la [EPA](https://www.epa.gov/).\n",
        "\n",
        "\n",
        "\n",
        "\n",
        "**Lab reference**\n",
        "*   https://github.com/PCL-AI/MT616_2019_1/blob/master/Lab03/Lab03.ipynb\n",
        "\n",
        "\n",
        "\n",
        "\n"
      ]
    },
    {
      "cell_type": "code",
      "metadata": {
        "id": "FPMd0s5_-49K",
        "colab_type": "code",
        "outputId": "1d6e45e9-a7d6-4552-de99-f22726a8b14a",
        "colab": {
          "base_uri": "https://localhost:8080/",
          "height": 760
        }
      },
      "source": [
        "from IPython.display import Image\n",
        "from IPython.core.display import HTML \n",
        "display(HTML(\"<table><tr><td><img src='https://blissair.com/wp-content/uploads/2013/06/pm25_comparison.jpg'></td><td><img src='https://2.bp.blogspot.com/-JrOWaLyMpGQ/Wvk4x61tCvI/AAAAAAAAARQ/j89n5Q8QjGcnpD8oXnLzgSlmER1ovReIQCLcBGAs/s1600/4.png'></td></tr></table>\"))"
      ],
      "execution_count": 1,
      "outputs": [
        {
          "output_type": "display_data",
          "data": {
            "text/plain": [
              "<IPython.core.display.HTML object>"
            ],
            "text/html": [
              "<table><tr><td><img src='https://blissair.com/wp-content/uploads/2013/06/pm25_comparison.jpg'></td><td><img src='https://2.bp.blogspot.com/-JrOWaLyMpGQ/Wvk4x61tCvI/AAAAAAAAARQ/j89n5Q8QjGcnpD8oXnLzgSlmER1ovReIQCLcBGAs/s1600/4.png'></td></tr></table>"
            ]
          },
          "metadata": {
            "tags": []
          }
        }
      ]
    },
    {
      "cell_type": "markdown",
      "metadata": {
        "id": "g4rMCG3diQyb",
        "colab_type": "text"
      },
      "source": [
        "## Dataset\n",
        "En esta tarea, debe entrenar los modelos de regresión en el set de datos de [Beijing PM2.5](http://archive.ics.uci.edu/ml/datasets/Beijing+PM2.5+Data#).\n",
        "\n",
        " Este conjunto de datos por hora contiene los datos de PM2.5 de la Embajada de USA en Beijing. También se incluyen los datos meteorológicos del Aeropuerto Internacional de Pekín.\n",
        "\n",
        "*  **No**: row number\n",
        "*  ** year**: year of data in this row\n",
        "*  ** month**: month of data in this row\n",
        "*   **day**: day of data in this row\n",
        "*   **hour**: hour of data in this row\n",
        "*   **pm2.5**: PM2.5 concentration (ug/m^3)\n",
        "*   **DEWP**: Dew Point (â„ƒ)\n",
        "*   **TEMP**: Temperature (â„ƒ)\n",
        "*   **PRES**: Pressure (hPa)\n",
        "*   **cbwd**: Combined wind direction\n",
        "*   **Iws**: Cumulated wind speed (m/s)\n",
        "*   **Is**: Cumulated hours of snow\n",
        "*   **Ir**: Cumulated hours of rain \n",
        "\n",
        "\n",
        "     \n",
        "     "
      ]
    },
    {
      "cell_type": "markdown",
      "metadata": {
        "id": "UGtIfMwGEI-A",
        "colab_type": "text"
      },
      "source": [
        "## Pregunta  : ¿Cual de los atributos mejora la calidad de nuestras predicciones?\n",
        "**Hipótesis :** el **cbwd**  no mejora las predicciones del modelo. \n",
        "\n",
        "**Prueba de hipótesis**: Que hacemos para mejorar el error.\n",
        "      \n",
        "## Para escojer el mejor modelo:\n",
        "\n",
        "1.  Hacer un analisis inicial de jerarquias en los datos para subdividirlos.\n",
        "2.  Puedes eliminar las filas con **NaN** (mas adelante vamos a aprender tecnicas para manejar este tipo de valores)\n",
        "3.  Debes categorizar el atributo **cbwd** o justificar su eliminacion\n",
        "4.  Selecciar las características aleatoriamente, forward, backward\n",
        "5.  Implementar regresores lineales (polinomios) escojiendo los atributos con almenos dos tecnicas mostradas en clase.\n",
        "6.  Mostrar un gráfico residual para cada uno de los modelos tanto en los datos de entrenamiento como en los datos de prueba. \n",
        "7.  El puntaje de $R^2$ debe ser mayor que $0.7$ en los datos de prueba para tu modelo final.\n",
        "\n",
        "##Tip: \n",
        "El error es algo que queremos minimizar, por lo que un número menor para MSE es mejor. Si quisiéramos realizar cambios y mejoras el modelo, el MSE debería ser menor si el modelo está mejorando."
      ]
    },
    {
      "cell_type": "code",
      "metadata": {
        "id": "jI1hV4EwiQye",
        "colab_type": "code",
        "outputId": "2139af6f-cea2-4997-b864-0e6c97f4d9c3",
        "colab": {
          "base_uri": "https://localhost:8080/",
          "height": 195
        }
      },
      "source": [
        "import pandas as pd\n",
        "import numpy as np\n",
        "import matplotlib.pyplot as plt\n",
        "%matplotlib inline\n",
        "import seaborn as sns\n",
        "\n",
        "# import model\n",
        "from sklearn.linear_model import LinearRegression\n",
        "from sklearn.model_selection import train_test_split\n",
        "# import module to calculate model perfomance metrics\n",
        "from sklearn import metrics\n",
        "\n",
        "df = pd.read_csv('http://archive.ics.uci.edu/ml/machine-learning-databases/00381/PRSA_data_2010.1.1-2014.12.31.csv', sep=',')\n",
        "df.head()"
      ],
      "execution_count": 7,
      "outputs": [
        {
          "output_type": "execute_result",
          "data": {
            "text/html": [
              "<div>\n",
              "<style scoped>\n",
              "    .dataframe tbody tr th:only-of-type {\n",
              "        vertical-align: middle;\n",
              "    }\n",
              "\n",
              "    .dataframe tbody tr th {\n",
              "        vertical-align: top;\n",
              "    }\n",
              "\n",
              "    .dataframe thead th {\n",
              "        text-align: right;\n",
              "    }\n",
              "</style>\n",
              "<table border=\"1\" class=\"dataframe\">\n",
              "  <thead>\n",
              "    <tr style=\"text-align: right;\">\n",
              "      <th></th>\n",
              "      <th>No</th>\n",
              "      <th>year</th>\n",
              "      <th>month</th>\n",
              "      <th>day</th>\n",
              "      <th>hour</th>\n",
              "      <th>pm2.5</th>\n",
              "      <th>DEWP</th>\n",
              "      <th>TEMP</th>\n",
              "      <th>PRES</th>\n",
              "      <th>cbwd</th>\n",
              "      <th>Iws</th>\n",
              "      <th>Is</th>\n",
              "      <th>Ir</th>\n",
              "    </tr>\n",
              "  </thead>\n",
              "  <tbody>\n",
              "    <tr>\n",
              "      <th>0</th>\n",
              "      <td>1</td>\n",
              "      <td>2010</td>\n",
              "      <td>1</td>\n",
              "      <td>1</td>\n",
              "      <td>0</td>\n",
              "      <td>NaN</td>\n",
              "      <td>-21</td>\n",
              "      <td>-11.0</td>\n",
              "      <td>1021.0</td>\n",
              "      <td>NW</td>\n",
              "      <td>1.79</td>\n",
              "      <td>0</td>\n",
              "      <td>0</td>\n",
              "    </tr>\n",
              "    <tr>\n",
              "      <th>1</th>\n",
              "      <td>2</td>\n",
              "      <td>2010</td>\n",
              "      <td>1</td>\n",
              "      <td>1</td>\n",
              "      <td>1</td>\n",
              "      <td>NaN</td>\n",
              "      <td>-21</td>\n",
              "      <td>-12.0</td>\n",
              "      <td>1020.0</td>\n",
              "      <td>NW</td>\n",
              "      <td>4.92</td>\n",
              "      <td>0</td>\n",
              "      <td>0</td>\n",
              "    </tr>\n",
              "    <tr>\n",
              "      <th>2</th>\n",
              "      <td>3</td>\n",
              "      <td>2010</td>\n",
              "      <td>1</td>\n",
              "      <td>1</td>\n",
              "      <td>2</td>\n",
              "      <td>NaN</td>\n",
              "      <td>-21</td>\n",
              "      <td>-11.0</td>\n",
              "      <td>1019.0</td>\n",
              "      <td>NW</td>\n",
              "      <td>6.71</td>\n",
              "      <td>0</td>\n",
              "      <td>0</td>\n",
              "    </tr>\n",
              "    <tr>\n",
              "      <th>3</th>\n",
              "      <td>4</td>\n",
              "      <td>2010</td>\n",
              "      <td>1</td>\n",
              "      <td>1</td>\n",
              "      <td>3</td>\n",
              "      <td>NaN</td>\n",
              "      <td>-21</td>\n",
              "      <td>-14.0</td>\n",
              "      <td>1019.0</td>\n",
              "      <td>NW</td>\n",
              "      <td>9.84</td>\n",
              "      <td>0</td>\n",
              "      <td>0</td>\n",
              "    </tr>\n",
              "    <tr>\n",
              "      <th>4</th>\n",
              "      <td>5</td>\n",
              "      <td>2010</td>\n",
              "      <td>1</td>\n",
              "      <td>1</td>\n",
              "      <td>4</td>\n",
              "      <td>NaN</td>\n",
              "      <td>-20</td>\n",
              "      <td>-12.0</td>\n",
              "      <td>1018.0</td>\n",
              "      <td>NW</td>\n",
              "      <td>12.97</td>\n",
              "      <td>0</td>\n",
              "      <td>0</td>\n",
              "    </tr>\n",
              "  </tbody>\n",
              "</table>\n",
              "</div>"
            ],
            "text/plain": [
              "   No  year  month  day  hour  pm2.5  DEWP  TEMP    PRES cbwd    Iws  Is  Ir\n",
              "0   1  2010      1    1     0    NaN   -21 -11.0  1021.0   NW   1.79   0   0\n",
              "1   2  2010      1    1     1    NaN   -21 -12.0  1020.0   NW   4.92   0   0\n",
              "2   3  2010      1    1     2    NaN   -21 -11.0  1019.0   NW   6.71   0   0\n",
              "3   4  2010      1    1     3    NaN   -21 -14.0  1019.0   NW   9.84   0   0\n",
              "4   5  2010      1    1     4    NaN   -20 -12.0  1018.0   NW  12.97   0   0"
            ]
          },
          "metadata": {
            "tags": []
          },
          "execution_count": 7
        }
      ]
    },
    {
      "cell_type": "code",
      "metadata": {
        "id": "sZ4-g1HFHI9d",
        "colab_type": "code",
        "outputId": "1cd37120-0008-477e-f207-d46b85abf8ee",
        "colab": {
          "base_uri": "https://localhost:8080/",
          "height": 319
        }
      },
      "source": [
        "df.info()"
      ],
      "execution_count": 8,
      "outputs": [
        {
          "output_type": "stream",
          "text": [
            "<class 'pandas.core.frame.DataFrame'>\n",
            "RangeIndex: 43824 entries, 0 to 43823\n",
            "Data columns (total 13 columns):\n",
            "No       43824 non-null int64\n",
            "year     43824 non-null int64\n",
            "month    43824 non-null int64\n",
            "day      43824 non-null int64\n",
            "hour     43824 non-null int64\n",
            "pm2.5    41757 non-null float64\n",
            "DEWP     43824 non-null int64\n",
            "TEMP     43824 non-null float64\n",
            "PRES     43824 non-null float64\n",
            "cbwd     43824 non-null object\n",
            "Iws      43824 non-null float64\n",
            "Is       43824 non-null int64\n",
            "Ir       43824 non-null int64\n",
            "dtypes: float64(4), int64(8), object(1)\n",
            "memory usage: 4.3+ MB\n"
          ],
          "name": "stdout"
        }
      ]
    },
    {
      "cell_type": "code",
      "metadata": {
        "id": "khguQM0TCYbh",
        "colab_type": "code",
        "outputId": "5f0e3a92-7348-4732-b1f0-4d57a1258422",
        "colab": {
          "base_uri": "https://localhost:8080/",
          "height": 284
        }
      },
      "source": [
        "df.describe()"
      ],
      "execution_count": 9,
      "outputs": [
        {
          "output_type": "execute_result",
          "data": {
            "text/html": [
              "<div>\n",
              "<style scoped>\n",
              "    .dataframe tbody tr th:only-of-type {\n",
              "        vertical-align: middle;\n",
              "    }\n",
              "\n",
              "    .dataframe tbody tr th {\n",
              "        vertical-align: top;\n",
              "    }\n",
              "\n",
              "    .dataframe thead th {\n",
              "        text-align: right;\n",
              "    }\n",
              "</style>\n",
              "<table border=\"1\" class=\"dataframe\">\n",
              "  <thead>\n",
              "    <tr style=\"text-align: right;\">\n",
              "      <th></th>\n",
              "      <th>No</th>\n",
              "      <th>year</th>\n",
              "      <th>month</th>\n",
              "      <th>day</th>\n",
              "      <th>hour</th>\n",
              "      <th>pm2.5</th>\n",
              "      <th>DEWP</th>\n",
              "      <th>TEMP</th>\n",
              "      <th>PRES</th>\n",
              "      <th>Iws</th>\n",
              "      <th>Is</th>\n",
              "      <th>Ir</th>\n",
              "    </tr>\n",
              "  </thead>\n",
              "  <tbody>\n",
              "    <tr>\n",
              "      <th>count</th>\n",
              "      <td>43824.000000</td>\n",
              "      <td>43824.000000</td>\n",
              "      <td>43824.000000</td>\n",
              "      <td>43824.000000</td>\n",
              "      <td>43824.000000</td>\n",
              "      <td>41757.000000</td>\n",
              "      <td>43824.000000</td>\n",
              "      <td>43824.000000</td>\n",
              "      <td>43824.000000</td>\n",
              "      <td>43824.000000</td>\n",
              "      <td>43824.000000</td>\n",
              "      <td>43824.000000</td>\n",
              "    </tr>\n",
              "    <tr>\n",
              "      <th>mean</th>\n",
              "      <td>21912.500000</td>\n",
              "      <td>2012.000000</td>\n",
              "      <td>6.523549</td>\n",
              "      <td>15.727820</td>\n",
              "      <td>11.500000</td>\n",
              "      <td>98.613215</td>\n",
              "      <td>1.817246</td>\n",
              "      <td>12.448521</td>\n",
              "      <td>1016.447654</td>\n",
              "      <td>23.889140</td>\n",
              "      <td>0.052734</td>\n",
              "      <td>0.194916</td>\n",
              "    </tr>\n",
              "    <tr>\n",
              "      <th>std</th>\n",
              "      <td>12651.043435</td>\n",
              "      <td>1.413842</td>\n",
              "      <td>3.448572</td>\n",
              "      <td>8.799425</td>\n",
              "      <td>6.922266</td>\n",
              "      <td>92.050387</td>\n",
              "      <td>14.433440</td>\n",
              "      <td>12.198613</td>\n",
              "      <td>10.268698</td>\n",
              "      <td>50.010635</td>\n",
              "      <td>0.760375</td>\n",
              "      <td>1.415867</td>\n",
              "    </tr>\n",
              "    <tr>\n",
              "      <th>min</th>\n",
              "      <td>1.000000</td>\n",
              "      <td>2010.000000</td>\n",
              "      <td>1.000000</td>\n",
              "      <td>1.000000</td>\n",
              "      <td>0.000000</td>\n",
              "      <td>0.000000</td>\n",
              "      <td>-40.000000</td>\n",
              "      <td>-19.000000</td>\n",
              "      <td>991.000000</td>\n",
              "      <td>0.450000</td>\n",
              "      <td>0.000000</td>\n",
              "      <td>0.000000</td>\n",
              "    </tr>\n",
              "    <tr>\n",
              "      <th>25%</th>\n",
              "      <td>10956.750000</td>\n",
              "      <td>2011.000000</td>\n",
              "      <td>4.000000</td>\n",
              "      <td>8.000000</td>\n",
              "      <td>5.750000</td>\n",
              "      <td>29.000000</td>\n",
              "      <td>-10.000000</td>\n",
              "      <td>2.000000</td>\n",
              "      <td>1008.000000</td>\n",
              "      <td>1.790000</td>\n",
              "      <td>0.000000</td>\n",
              "      <td>0.000000</td>\n",
              "    </tr>\n",
              "    <tr>\n",
              "      <th>50%</th>\n",
              "      <td>21912.500000</td>\n",
              "      <td>2012.000000</td>\n",
              "      <td>7.000000</td>\n",
              "      <td>16.000000</td>\n",
              "      <td>11.500000</td>\n",
              "      <td>72.000000</td>\n",
              "      <td>2.000000</td>\n",
              "      <td>14.000000</td>\n",
              "      <td>1016.000000</td>\n",
              "      <td>5.370000</td>\n",
              "      <td>0.000000</td>\n",
              "      <td>0.000000</td>\n",
              "    </tr>\n",
              "    <tr>\n",
              "      <th>75%</th>\n",
              "      <td>32868.250000</td>\n",
              "      <td>2013.000000</td>\n",
              "      <td>10.000000</td>\n",
              "      <td>23.000000</td>\n",
              "      <td>17.250000</td>\n",
              "      <td>137.000000</td>\n",
              "      <td>15.000000</td>\n",
              "      <td>23.000000</td>\n",
              "      <td>1025.000000</td>\n",
              "      <td>21.910000</td>\n",
              "      <td>0.000000</td>\n",
              "      <td>0.000000</td>\n",
              "    </tr>\n",
              "    <tr>\n",
              "      <th>max</th>\n",
              "      <td>43824.000000</td>\n",
              "      <td>2014.000000</td>\n",
              "      <td>12.000000</td>\n",
              "      <td>31.000000</td>\n",
              "      <td>23.000000</td>\n",
              "      <td>994.000000</td>\n",
              "      <td>28.000000</td>\n",
              "      <td>42.000000</td>\n",
              "      <td>1046.000000</td>\n",
              "      <td>585.600000</td>\n",
              "      <td>27.000000</td>\n",
              "      <td>36.000000</td>\n",
              "    </tr>\n",
              "  </tbody>\n",
              "</table>\n",
              "</div>"
            ],
            "text/plain": [
              "                 No          year  ...            Is            Ir\n",
              "count  43824.000000  43824.000000  ...  43824.000000  43824.000000\n",
              "mean   21912.500000   2012.000000  ...      0.052734      0.194916\n",
              "std    12651.043435      1.413842  ...      0.760375      1.415867\n",
              "min        1.000000   2010.000000  ...      0.000000      0.000000\n",
              "25%    10956.750000   2011.000000  ...      0.000000      0.000000\n",
              "50%    21912.500000   2012.000000  ...      0.000000      0.000000\n",
              "75%    32868.250000   2013.000000  ...      0.000000      0.000000\n",
              "max    43824.000000   2014.000000  ...     27.000000     36.000000\n",
              "\n",
              "[8 rows x 12 columns]"
            ]
          },
          "metadata": {
            "tags": []
          },
          "execution_count": 9
        }
      ]
    },
    {
      "cell_type": "code",
      "metadata": {
        "id": "m64rfA5yCJmo",
        "colab_type": "code",
        "outputId": "0fc1a374-c87b-4c04-d129-42acfb4a648b",
        "colab": {
          "base_uri": "https://localhost:8080/",
          "height": 166
        }
      },
      "source": [
        "df.describe(include=['object'])"
      ],
      "execution_count": 12,
      "outputs": [
        {
          "output_type": "execute_result",
          "data": {
            "text/html": [
              "<div>\n",
              "<style scoped>\n",
              "    .dataframe tbody tr th:only-of-type {\n",
              "        vertical-align: middle;\n",
              "    }\n",
              "\n",
              "    .dataframe tbody tr th {\n",
              "        vertical-align: top;\n",
              "    }\n",
              "\n",
              "    .dataframe thead th {\n",
              "        text-align: right;\n",
              "    }\n",
              "</style>\n",
              "<table border=\"1\" class=\"dataframe\">\n",
              "  <thead>\n",
              "    <tr style=\"text-align: right;\">\n",
              "      <th></th>\n",
              "      <th>cbwd</th>\n",
              "    </tr>\n",
              "  </thead>\n",
              "  <tbody>\n",
              "    <tr>\n",
              "      <th>count</th>\n",
              "      <td>43824</td>\n",
              "    </tr>\n",
              "    <tr>\n",
              "      <th>unique</th>\n",
              "      <td>4</td>\n",
              "    </tr>\n",
              "    <tr>\n",
              "      <th>top</th>\n",
              "      <td>SE</td>\n",
              "    </tr>\n",
              "    <tr>\n",
              "      <th>freq</th>\n",
              "      <td>15290</td>\n",
              "    </tr>\n",
              "  </tbody>\n",
              "</table>\n",
              "</div>"
            ],
            "text/plain": [
              "         cbwd\n",
              "count   43824\n",
              "unique      4\n",
              "top        SE\n",
              "freq    15290"
            ]
          },
          "metadata": {
            "tags": []
          },
          "execution_count": 12
        }
      ]
    },
    {
      "cell_type": "code",
      "metadata": {
        "id": "lyiCHgRHCTia",
        "colab_type": "code",
        "colab": {}
      },
      "source": [
        "## Escribir codigo\n",
        "##"
      ],
      "execution_count": 0,
      "outputs": []
    }
  ]
}